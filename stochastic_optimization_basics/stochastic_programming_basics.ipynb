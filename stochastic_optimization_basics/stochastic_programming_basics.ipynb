{
 "cells": [
  {
   "cell_type": "code",
   "execution_count": 1,
   "metadata": {},
   "outputs": [],
   "source": [
    "from math import sqrt, exp\n",
    "import numpy as np"
   ]
  },
  {
   "cell_type": "code",
   "execution_count": 2,
   "metadata": {},
   "outputs": [],
   "source": [
    "def rnorm(mu=0, sigma=1):\n",
    "    return np.random.normal(0, 1)\n",
    "\n",
    "\n",
    "def wiener_process(T):\n",
    "    wiener = np.zeros(T)\n",
    "    for t in range(T):\n",
    "        Wt = sqrt(t + 1) * rnorm(0, 1)\n",
    "        wiener[t] = Wt\n",
    "        \n",
    "    return wiener\n",
    "\n",
    "\n",
    "def GBM(S0, mu, sigma, T):\n",
    "    gbm = np.zeros(T + 1)\n",
    "    gbm[0] = S0\n",
    "    wiener = wiener_process(T)\n",
    "    for t in range(1, T + 1):\n",
    "        drift = mu - (sigma ** 2) / 2\n",
    "        drift = drift * t\n",
    "        vol = sigma * wiener[t - 1]\n",
    "        St = S0 * exp(drift + vol)\n",
    "        gbm[t] = St\n",
    "    \n",
    "    return gbm"
   ]
  },
  {
   "cell_type": "code",
   "execution_count": 3,
   "metadata": {},
   "outputs": [],
   "source": [
    "def generate_sample(S0, mu, sigma, T, sample_size):\n",
    "    sample = np.zeros(shape=(sample_size, T + 1))\n",
    "    for i in range(sample_size): \n",
    "        gbm = GBM(S0, mu, sigma, T)\n",
    "        sample[i] = gbm\n",
    "        \n",
    "    return sample\n",
    "\n",
    "\n",
    "def gbm_mean(S0, mu, t):\n",
    "    return S0 * exp(mu * t)\n",
    "\n",
    "\n",
    "def gbm_std(S0, mu, sigma, t):\n",
    "    std = S0 ** 2\n",
    "    std *= exp(2 * mu * t)\n",
    "    std *= (exp(sigma ** 2 * t) - 1)\n",
    "    \n",
    "    return sqrt(std)"
   ]
  },
  {
   "cell_type": "markdown",
   "metadata": {},
   "source": [
    "### Geometric Brownian Motion (GBM) moments\n",
    "$\\mathrm{E}[S_t] = S_0 \\cdot e^{\\mu t}, \\, t=1,\\ldots, T$\n",
    "\n",
    "$\\mathrm{Var}[S_t] = S_0^2 \\cdot e^{2\\mu t} \\cdot (e^{\\sigma^2 t} - 1), \\, t=1,\\ldots, T$"
   ]
  },
  {
   "cell_type": "markdown",
   "metadata": {},
   "source": [
    "### Test case 1\n",
    "For $\\mu = 0$ we expect $\\mathrm{E}[S_t] = S_0, \\, t=1,\\ldots, T$"
   ]
  },
  {
   "cell_type": "code",
   "execution_count": 4,
   "metadata": {},
   "outputs": [
    {
     "data": {
      "text/plain": [
       "array([40.        , 39.9663292 , 40.06352884, 39.96491413, 40.06182376,\n",
       "       39.93068189, 39.94724183, 39.89242018, 40.07227284, 40.10803742,\n",
       "       40.10907371])"
      ]
     },
     "execution_count": 4,
     "metadata": {},
     "output_type": "execute_result"
    }
   ],
   "source": [
    "sample_size = 100000\n",
    "T = 10\n",
    "S0 = 40\n",
    "mu = 0\n",
    "sigma = 0.25\n",
    "\n",
    "sample = generate_sample(S0, mu, sigma, T, sample_size)\n",
    "sample.mean(axis=0)"
   ]
  },
  {
   "cell_type": "markdown",
   "metadata": {},
   "source": [
    "### Test case 2\n",
    "\n",
    "For $\\mu > 0$ we expect $\\mathbb{E}[S_t] = S_0 \\cdot e^{\\mu t}, \\, t=1,\\ldots, T$"
   ]
  },
  {
   "cell_type": "code",
   "execution_count": 5,
   "metadata": {},
   "outputs": [
    {
     "data": {
      "text/plain": [
       "array([ 40.        ,  44.22619273,  48.89849787,  53.97040381,\n",
       "        59.76656305,  65.7654426 ,  72.94297779,  80.56017522,\n",
       "        89.37411478,  98.2666812 , 108.3178117 ])"
      ]
     },
     "execution_count": 5,
     "metadata": {},
     "output_type": "execute_result"
    }
   ],
   "source": [
    "sample_size = 100000\n",
    "S = 10\n",
    "T = 10\n",
    "S0 = 40\n",
    "mu = 0.1\n",
    "sigma = 0.25\n",
    "\n",
    "sample = generate_sample(S0, mu, sigma, T, sample_size)\n",
    "sample.mean(axis=0)"
   ]
  },
  {
   "cell_type": "code",
   "execution_count": 6,
   "metadata": {},
   "outputs": [
    {
     "name": "stdout",
     "output_type": "stream",
     "text": [
      "40.0\n",
      "44.20683672302591\n",
      "48.85611032640679\n",
      "53.99435230304013\n",
      "59.672987905650814\n",
      "65.94885082800513\n",
      "72.88475201562036\n",
      "80.55010829881907\n",
      "89.02163713969871\n",
      "98.384124446278\n",
      "108.7312731383618\n"
     ]
    }
   ],
   "source": [
    "for t in range(0, T + 1):\n",
    "    print(gbm_mean(S0, mu, t))"
   ]
  },
  {
   "cell_type": "markdown",
   "metadata": {},
   "source": [
    "### Shortest path / dynamic programming solution"
   ]
  },
  {
   "cell_type": "markdown",
   "metadata": {},
   "source": [
    "TODO:\n",
    "2. Nauciti dodati tezine\n",
    "3. Implementirati Dijkstru\n",
    "4. Naci primjer za dynamic programming"
   ]
  },
  {
   "cell_type": "code",
   "execution_count": 40,
   "metadata": {},
   "outputs": [],
   "source": [
    "import networkx as nx\n",
    "import itertools\n",
    "import matplotlib.pyplot as plt"
   ]
  },
  {
   "cell_type": "code",
   "execution_count": 56,
   "metadata": {},
   "outputs": [],
   "source": [
    "a = int(np.random.randint(low=1, high=2 + 1, size=1))"
   ]
  },
  {
   "cell_type": "code",
   "execution_count": 58,
   "metadata": {},
   "outputs": [
    {
     "data": {
      "text/plain": [
       "6.454008742504776"
      ]
     },
     "execution_count": 58,
     "metadata": {},
     "output_type": "execute_result"
    }
   ],
   "source": [
    "np.random.normal(loc=10, scale=2)"
   ]
  },
  {
   "cell_type": "code",
   "execution_count": 61,
   "metadata": {},
   "outputs": [
    {
     "data": {
      "text/plain": [
       "'\\nG = nx.DiGraph()\\nG.add_nodes_from(nodes)\\nG.add_edges_from(edges)\\n'"
      ]
     },
     "execution_count": 61,
     "metadata": {},
     "output_type": "execute_result"
    }
   ],
   "source": [
    "ss = list(itertools.product(range(T + 1), range(S + 1)))\n",
    "nodes = [f'S_{stage}_{state}' for stage, state in ss]\n",
    "edges = []\n",
    "for stage, state in ss:\n",
    "    if stage == T:\n",
    "        continue\n",
    "    for i in range(5):\n",
    "        next_state = state + i\n",
    "        if S < next_state:\n",
    "            continue\n",
    "        weight = np.random.normal(loc=10, scale=2)\n",
    "        edge = (f'S_{stage}_{state}', f'S_{stage + 1}_{next_state}', {'weight':weight})\n",
    "        edges.append(edge)\n",
    "        \n",
    "G = nx.DiGraph(edges)\n",
    "\"\"\"\n",
    "G = nx.DiGraph()\n",
    "G.add_nodes_from(nodes)\n",
    "G.add_edges_from(edges)\n",
    "\"\"\""
   ]
  },
  {
   "cell_type": "code",
   "execution_count": 62,
   "metadata": {},
   "outputs": [
    {
     "data": {
      "image/png": "[encoded data removed]",
      "text/plain": [
       "<Figure size 432x288 with 1 Axes>"
      ]
     },
     "metadata": {},
     "output_type": "display_data"
    }
   ],
   "source": [
    "nx.draw(G, with_labels=True)"
   ]
  },
  {
   "cell_type": "code",
   "execution_count": 69,
   "metadata": {},
   "outputs": [
    {
     "data": {
      "text/plain": [
       "['S_0_0',\n",
       " 'S_1_1',\n",
       " 'S_2_3',\n",
       " 'S_3_4',\n",
       " 'S_4_5',\n",
       " 'S_5_7',\n",
       " 'S_6_7',\n",
       " 'S_7_7',\n",
       " 'S_8_7',\n",
       " 'S_9_7',\n",
       " 'S_10_10']"
      ]
     },
     "execution_count": 69,
     "metadata": {},
     "output_type": "execute_result"
    }
   ],
   "source": [
    "nx.shortest_path(G, 'S_0_0', 'S_10_10', weight='weight')"
   ]
  },
  {
   "cell_type": "code",
   "execution_count": 180,
   "metadata": {},
   "outputs": [
    {
     "data": {
      "text/plain": [
       "(['S_0_0',\n",
       "  'S_1_1',\n",
       "  'S_2_3',\n",
       "  'S_3_4',\n",
       "  'S_4_5',\n",
       "  'S_5_7',\n",
       "  'S_6_7',\n",
       "  'S_7_7',\n",
       "  'S_8_7',\n",
       "  'S_9_7',\n",
       "  'S_10_10'],\n",
       " 75.20978911877124)"
      ]
     },
     "execution_count": 180,
     "metadata": {},
     "output_type": "execute_result"
    }
   ],
   "source": [
    "dijkstra(G, 'S_0_0', 'S_10_10')"
   ]
  },
  {
   "cell_type": "code",
   "execution_count": 179,
   "metadata": {},
   "outputs": [],
   "source": [
    "class ShortestPathResult():\n",
    "    def __init__(self):\n",
    "        self.dist = {}\n",
    "        self.path = {}\n",
    "\n",
    "def reconstruct_shortest_path(source, target, prev):\n",
    "    if source != target:\n",
    "        path = reconstruct_shortest_path(source, prev[target], prev)\n",
    "        path.append(target)\n",
    "        return path\n",
    "    else:\n",
    "        path = [source]\n",
    "        return path\n",
    "\n",
    "def dijkstra(G, source, target, weight='weight'):\n",
    "    prev = {node: None for node in G.nodes}\n",
    "    dist = {node: np.Inf for node in G.nodes}\n",
    "    dist[source] = 0\n",
    "    unvisited = set(G.nodes)\n",
    "    visited = set()\n",
    "    current = source\n",
    "    while (len(unvisited) > 0) & (current != target):\n",
    "        for nbr, attrs in G[current].items():\n",
    "            if not nbr in unvisited:\n",
    "                continue\n",
    "            d = attrs[weight] \n",
    "            new_dist = dist[current] + d\n",
    "            if new_dist < dist[nbr]:\n",
    "                dist[nbr] = new_dist\n",
    "                prev[nbr] = current\n",
    "   \n",
    "        unvisited.remove(current)\n",
    "        visited.add(current)\n",
    "        d = {k: v for k, v in dist.items() if not k in visited}\n",
    "        current = min(d, key=d.get)\n",
    "        \n",
    "    shortest_path = reconstruct_shortest_path(source, target, prev)\n",
    "    \n",
    "    return shortest_path, dist[target]"
   ]
  },
  {
   "cell_type": "code",
   "execution_count": 184,
   "metadata": {},
   "outputs": [
    {
     "data": {
      "text/plain": [
       "['S_0_10',\n",
       " 'S_0_9',\n",
       " 'S_0_8',\n",
       " 'S_0_7',\n",
       " 'S_0_6',\n",
       " 'S_1_10',\n",
       " 'S_0_5',\n",
       " 'S_1_9',\n",
       " 'S_0_4',\n",
       " 'S_1_8',\n",
       " 'S_0_3',\n",
       " 'S_1_7',\n",
       " 'S_0_2',\n",
       " 'S_1_6',\n",
       " 'S_2_10',\n",
       " 'S_0_1',\n",
       " 'S_1_5',\n",
       " 'S_2_9',\n",
       " 'S_0_0',\n",
       " 'S_1_4',\n",
       " 'S_2_8',\n",
       " 'S_1_3',\n",
       " 'S_2_7',\n",
       " 'S_1_2',\n",
       " 'S_2_6',\n",
       " 'S_3_10',\n",
       " 'S_1_1',\n",
       " 'S_2_5',\n",
       " 'S_3_9',\n",
       " 'S_1_0',\n",
       " 'S_2_4',\n",
       " 'S_3_8',\n",
       " 'S_2_3',\n",
       " 'S_3_7',\n",
       " 'S_2_2',\n",
       " 'S_3_6',\n",
       " 'S_4_10',\n",
       " 'S_2_1',\n",
       " 'S_3_5',\n",
       " 'S_4_9',\n",
       " 'S_2_0',\n",
       " 'S_3_4',\n",
       " 'S_4_8',\n",
       " 'S_3_3',\n",
       " 'S_4_7',\n",
       " 'S_3_2',\n",
       " 'S_4_6',\n",
       " 'S_5_10',\n",
       " 'S_3_1',\n",
       " 'S_4_5',\n",
       " 'S_5_9',\n",
       " 'S_3_0',\n",
       " 'S_4_4',\n",
       " 'S_5_8',\n",
       " 'S_4_3',\n",
       " 'S_5_7',\n",
       " 'S_4_2',\n",
       " 'S_5_6',\n",
       " 'S_6_10',\n",
       " 'S_4_1',\n",
       " 'S_5_5',\n",
       " 'S_6_9',\n",
       " 'S_4_0',\n",
       " 'S_5_4',\n",
       " 'S_6_8',\n",
       " 'S_5_3',\n",
       " 'S_6_7',\n",
       " 'S_5_2',\n",
       " 'S_6_6',\n",
       " 'S_7_10',\n",
       " 'S_5_1',\n",
       " 'S_6_5',\n",
       " 'S_7_9',\n",
       " 'S_5_0',\n",
       " 'S_6_4',\n",
       " 'S_7_8',\n",
       " 'S_6_3',\n",
       " 'S_7_7',\n",
       " 'S_6_2',\n",
       " 'S_7_6',\n",
       " 'S_8_10',\n",
       " 'S_6_1',\n",
       " 'S_7_5',\n",
       " 'S_8_9',\n",
       " 'S_6_0',\n",
       " 'S_7_4',\n",
       " 'S_8_8',\n",
       " 'S_7_3',\n",
       " 'S_8_7',\n",
       " 'S_7_2',\n",
       " 'S_8_6',\n",
       " 'S_9_10',\n",
       " 'S_7_1',\n",
       " 'S_8_5',\n",
       " 'S_9_9',\n",
       " 'S_7_0',\n",
       " 'S_8_4',\n",
       " 'S_9_8',\n",
       " 'S_8_3',\n",
       " 'S_9_7',\n",
       " 'S_8_2',\n",
       " 'S_9_6',\n",
       " 'S_10_10',\n",
       " 'S_8_1',\n",
       " 'S_9_5',\n",
       " 'S_10_9',\n",
       " 'S_8_0',\n",
       " 'S_9_4',\n",
       " 'S_10_8',\n",
       " 'S_9_3',\n",
       " 'S_10_7',\n",
       " 'S_9_2',\n",
       " 'S_10_6',\n",
       " 'S_9_1',\n",
       " 'S_10_5',\n",
       " 'S_9_0',\n",
       " 'S_10_4',\n",
       " 'S_10_3',\n",
       " 'S_10_2',\n",
       " 'S_10_1',\n",
       " 'S_10_0']"
      ]
     },
     "execution_count": 184,
     "metadata": {},
     "output_type": "execute_result"
    }
   ],
   "source": [
    "list(nx.topological_sort(G))"
   ]
  },
  {
   "cell_type": "code",
   "execution_count": null,
   "metadata": {},
   "outputs": [],
   "source": [
    "def dp_shortest_path(G, source, target, weight='weight')"
   ]
  },
  {
   "cell_type": "markdown",
   "metadata": {},
   "source": [
    "### Gurobi optimization"
   ]
  },
  {
   "cell_type": "code",
   "execution_count": 7,
   "metadata": {},
   "outputs": [],
   "source": [
    "import gurobipy as gp\n",
    "from gurobipy import GRB\n",
    "import math"
   ]
  },
  {
   "cell_type": "code",
   "execution_count": 82,
   "metadata": {},
   "outputs": [],
   "source": [
    "m = gp.Model('so')\n",
    "at = [m.addVar(vtype=GRB.INTEGER, name=f'a_{t}') for t in range(T)]\n",
    "st = [m.addVar(vtype=GRB.INTEGER, name=f's_{t}') for t in range(T + 1)]\n",
    "\n",
    "m.update()"
   ]
  },
  {
   "cell_type": "code",
   "execution_count": 83,
   "metadata": {},
   "outputs": [],
   "source": [
    "electric = [150 * 115 * (st[i] + at[i]) for i in range(T)]\n",
    "diesel = [(3600 + 155 * 40) * (10 - st[i] - at[i]) for i in range(T)]\n",
    "invest = [4*10**5 * math.exp(-0.05*t) * at[i] for i in range(T)]\n",
    "final = [(10 - st[T]) * (4 * 10 ** 5) * math.exp(-0.05 * T)]"
   ]
  },
  {
   "cell_type": "code",
   "execution_count": 84,
   "metadata": {},
   "outputs": [],
   "source": [
    "obj = []\n",
    "obj.extend(electric)\n",
    "obj.extend(diesel)\n",
    "obj.extend(invest)\n",
    "obj.extend(final)\n",
    "\n",
    "m.setObjective(sum(obj))"
   ]
  },
  {
   "cell_type": "code",
   "execution_count": 26,
   "metadata": {},
   "outputs": [
    {
     "name": "stdout",
     "output_type": "stream",
     "text": [
      "Gurobi Optimizer version 9.0.3 build v9.0.3rc0 (mac64)\n",
      "Optimize a model with 2 rows, 3 columns and 5 nonzeros\n",
      "Model fingerprint: 0xf43f5bdf\n",
      "Variable types: 0 continuous, 3 integer (3 binary)\n",
      "Coefficient statistics:\n",
      "  Matrix range     [1e+00, 3e+00]\n",
      "  Objective range  [1e+00, 2e+00]\n",
      "  Bounds range     [1e+00, 1e+00]\n",
      "  RHS range        [1e+00, 4e+00]\n",
      "Found heuristic solution: objective 2.0000000\n",
      "Presolve removed 2 rows and 3 columns\n",
      "Presolve time: 0.00s\n",
      "Presolve: All rows and columns removed\n",
      "\n",
      "Explored 0 nodes (0 simplex iterations) in 0.01 seconds\n",
      "Thread count was 1 (of 16 available processors)\n",
      "\n",
      "Solution count 2: 3 \n",
      "\n",
      "Optimal solution found (tolerance 1.00e-04)\n",
      "Best objective 3.000000000000e+00, best bound 3.000000000000e+00, gap 0.0000%\n",
      "x 1\n",
      "y 0\n",
      "z 1\n",
      "Obj: 3\n"
     ]
    }
   ],
   "source": [
    "try:\n",
    "\n",
    "    # Create a new model\n",
    "    m = gp.Model(\"mip1\")\n",
    "\n",
    "    # Create variables\n",
    "    x = m.addVar(vtype=GRB.BINARY, name=\"x\")\n",
    "    y = m.addVar(vtype=GRB.BINARY, name=\"y\")\n",
    "    z = m.addVar(vtype=GRB.BINARY, name=\"z\")\n",
    "\n",
    "    # Set objective\n",
    "    m.setObjective(x + y + 2 * z, GRB.MAXIMIZE)\n",
    "\n",
    "    # Add constraint: x + 2 y + 3 z <= 4\n",
    "    m.addConstr(x + 2 * y + 3 * z <= 4, \"c0\")\n",
    "\n",
    "    # Add constraint: x + y >= 1\n",
    "    m.addConstr(x + y >= 1, \"c1\")\n",
    "\n",
    "    # Optimize model\n",
    "    m.optimize()\n",
    "\n",
    "    for v in m.getVars():\n",
    "        print('%s %g' % (v.varName, v.x))\n",
    "\n",
    "    print('Obj: %g' % m.objVal)\n",
    "\n",
    "except gp.GurobiError as e:\n",
    "    print('Error code ' + str(e.errno) + ': ' + str(e))\n",
    "\n",
    "except AttributeError:\n",
    "    print('Encountered an attribute error')"
   ]
  },
  {
   "cell_type": "code",
   "execution_count": null,
   "metadata": {},
   "outputs": [],
   "source": []
  }
 ],
 "metadata": {
  "kernelspec": {
   "display_name": "Python 3",
   "language": "python",
   "name": "python3"
  },
  "language_info": {
   "codemirror_mode": {
    "name": "ipython",
    "version": 3
   },
   "file_extension": ".py",
   "mimetype": "text/x-python",
   "name": "python",
   "nbconvert_exporter": "python",
   "pygments_lexer": "ipython3",
   "version": "3.7.3"
  }
 },
 "nbformat": 4,
 "nbformat_minor": 4
}
