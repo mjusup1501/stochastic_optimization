{
 "cells": [
  {
   "cell_type": "markdown",
   "metadata": {},
   "source": [
    "### Wiener process and Geometric Brownian Motion (GBM)"
   ]
  },
  {
   "cell_type": "code",
   "execution_count": 2,
   "metadata": {},
   "outputs": [],
   "source": [
    "from math import sqrt, exp\n",
    "import numpy as np"
   ]
  },
  {
   "cell_type": "code",
   "execution_count": 3,
   "metadata": {},
   "outputs": [],
   "source": [
    "def rnorm(mu=0, sigma=1):\n",
    "    return np.random.normal(0, 1)\n",
    "\n",
    "\n",
    "def wiener_process(T):\n",
    "    wiener = np.zeros(T)\n",
    "    for t in range(T):\n",
    "        Wt = sqrt(t + 1) * rnorm(0, 1)\n",
    "        wiener[t] = Wt\n",
    "        \n",
    "    return wiener\n",
    "\n",
    "\n",
    "def GBM(S0, mu, sigma, T):\n",
    "    gbm = np.zeros(T + 1)\n",
    "    gbm[0] = S0\n",
    "    wiener = wiener_process(T)\n",
    "    for t in range(1, T + 1):\n",
    "        drift = mu - (sigma ** 2) / 2\n",
    "        drift = drift * t\n",
    "        vol = sigma * wiener[t - 1]\n",
    "        St = S0 * exp(drift + vol)\n",
    "        gbm[t] = St\n",
    "    \n",
    "    return gbm"
   ]
  },
  {
   "cell_type": "markdown",
   "metadata": {},
   "source": [
    "#### Geometric Brownian Motion (GBM) moments\n",
    "$\\mathrm{E}[S_t] = S_0 \\cdot e^{\\mu t}, \\, t=1,\\ldots, T$\n",
    "\n",
    "$\\mathrm{Var}[S_t] = S_0^2 \\cdot e^{2\\mu t} \\cdot (e^{\\sigma^2 t} - 1), \\, t=1,\\ldots, T$"
   ]
  },
  {
   "cell_type": "code",
   "execution_count": 4,
   "metadata": {},
   "outputs": [],
   "source": [
    "def generate_sample(S0, mu, sigma, T, sample_size):\n",
    "    sample = np.zeros(shape=(sample_size, T + 1))\n",
    "    for i in range(sample_size): \n",
    "        gbm = GBM(S0, mu, sigma, T)\n",
    "        sample[i] = gbm\n",
    "        \n",
    "    return sample\n",
    "\n",
    "\n",
    "def gbm_mean(S0, mu, t):\n",
    "    return S0 * exp(mu * t)\n",
    "\n",
    "\n",
    "def gbm_std(S0, mu, sigma, t):\n",
    "    std = S0 ** 2\n",
    "    std *= exp(2 * mu * t)\n",
    "    std *= (exp(sigma ** 2 * t) - 1)\n",
    "    \n",
    "    return sqrt(std)"
   ]
  },
  {
   "cell_type": "markdown",
   "metadata": {},
   "source": [
    "##### Test case 1\n",
    "For $\\mu = 0$ we expect $\\mathrm{E}[S_t] = S_0, \\, t=1,\\ldots, T$"
   ]
  },
  {
   "cell_type": "code",
   "execution_count": 5,
   "metadata": {},
   "outputs": [
    {
     "data": {
      "text/plain": [
       "array([40.        , 40.02206942, 39.95538497, 40.10240357, 39.99762424,\n",
       "       40.00142392, 39.99905924, 39.88780907, 39.99222446, 40.05903688,\n",
       "       40.17748609])"
      ]
     },
     "execution_count": 5,
     "metadata": {},
     "output_type": "execute_result"
    }
   ],
   "source": [
    "sample_size = 100000\n",
    "T = 10\n",
    "S0 = 40\n",
    "mu = 0\n",
    "sigma = 0.25\n",
    "\n",
    "sample = generate_sample(S0, mu, sigma, T, sample_size)\n",
    "sample.mean(axis=0)"
   ]
  },
  {
   "cell_type": "markdown",
   "metadata": {},
   "source": [
    "##### Test case 2\n",
    "\n",
    "For $\\mu > 0$ we expect $\\mathbb{E}[S_t] = S_0 \\cdot e^{\\mu t}, \\, t=1,\\ldots, T$"
   ]
  },
  {
   "cell_type": "code",
   "execution_count": 6,
   "metadata": {},
   "outputs": [
    {
     "data": {
      "text/plain": [
       "array([ 40.        ,  44.16307329,  48.92222195,  53.97934854,\n",
       "        59.60157876,  65.84058505,  72.97872583,  81.06834048,\n",
       "        89.27261241,  98.54901203, 109.17185374])"
      ]
     },
     "execution_count": 6,
     "metadata": {},
     "output_type": "execute_result"
    }
   ],
   "source": [
    "sample_size = 100000\n",
    "S = 10\n",
    "T = 10\n",
    "S0 = 40\n",
    "mu = 0.1\n",
    "sigma = 0.25\n",
    "\n",
    "sample = generate_sample(S0, mu, sigma, T, sample_size)\n",
    "sample.mean(axis=0)"
   ]
  },
  {
   "cell_type": "code",
   "execution_count": 7,
   "metadata": {},
   "outputs": [
    {
     "name": "stdout",
     "output_type": "stream",
     "text": [
      "40.0\n",
      "44.20683672302591\n",
      "48.85611032640679\n",
      "53.99435230304013\n",
      "59.672987905650814\n",
      "65.94885082800513\n",
      "72.88475201562036\n",
      "80.55010829881907\n",
      "89.02163713969871\n",
      "98.384124446278\n",
      "108.7312731383618\n"
     ]
    }
   ],
   "source": [
    "for t in range(0, T + 1):\n",
    "    print(gbm_mean(S0, mu, t))"
   ]
  },
  {
   "cell_type": "markdown",
   "metadata": {},
   "source": [
    "### Shortest path algorithms"
   ]
  },
  {
   "cell_type": "code",
   "execution_count": 90,
   "metadata": {},
   "outputs": [],
   "source": [
    "import networkx as nx\n",
    "import itertools\n",
    "import matplotlib.pyplot as plt"
   ]
  },
  {
   "cell_type": "code",
   "execution_count": 71,
   "metadata": {},
   "outputs": [],
   "source": [
    "class ShortestPathResult():\n",
    "    def __init__(self):\n",
    "        self.dist = {}\n",
    "        self.prev = {}"
   ]
  },
  {
   "cell_type": "markdown",
   "metadata": {},
   "source": [
    "#### Dijkstra - basic implementation"
   ]
  },
  {
   "cell_type": "code",
   "execution_count": 78,
   "metadata": {},
   "outputs": [],
   "source": [
    "def reconstruct_shortest_path(source, target, prev):\n",
    "    if source != target:\n",
    "        path = reconstruct_shortest_path(source, prev[target], prev)\n",
    "        path.append(target)\n",
    "        return path\n",
    "    else:\n",
    "        path = [source]\n",
    "        return path\n",
    "\n",
    "def dijkstra(G, source, target, weight='weight'):\n",
    "    memo = ShortestPathResult()\n",
    "    memo.prev = {node: None for node in G.nodes}\n",
    "    memo.dist = {node: np.Inf for node in G.nodes}\n",
    "    memo.dist[source] = 0\n",
    "    memo.unvisited = memo.dist.copy()\n",
    "    current = source\n",
    "    while (len(memo.unvisited) > 0) & (current != target):\n",
    "        for nbr, attrs in G[current].items():\n",
    "            if not nbr in memo.unvisited:\n",
    "                continue\n",
    "            d = attrs[weight] \n",
    "            new_dist = memo.dist[current] + d\n",
    "            if new_dist < memo.dist[nbr]:\n",
    "                memo.dist[nbr] = new_dist\n",
    "                memo.prev[nbr] = current\n",
    "   \n",
    "        del memo.unvisited[current]\n",
    "        current = min(memo.unvisited, key=memo.unvisited.get)    \n",
    "    shortest_path = reconstruct_shortest_path(source, target, memo.prev)\n",
    "    \n",
    "    return shortest_path, memo.dist[target]"
   ]
  },
  {
   "cell_type": "markdown",
   "metadata": {},
   "source": [
    "#### Dynamic programming"
   ]
  },
  {
   "cell_type": "markdown",
   "metadata": {},
   "source": [
    "##### Top-down approach"
   ]
  },
  {
   "cell_type": "markdown",
   "metadata": {},
   "source": [
    "We will use the fact that $SP(s, t) = \\min\\{SP(s, u) + w(u, t) | (u, t) \\in E\\}$\n",
    "\n",
    "First top-down approach is implemented. I.e., we start from target node and recourse until we end up at the source.\n",
    "\n",
    "Requirements:\n",
    "* Graph should be directed, i.e., need to support innode operation"
   ]
  },
  {
   "cell_type": "code",
   "execution_count": 65,
   "metadata": {},
   "outputs": [],
   "source": [
    "def sp_dp_recurse(G, target, memo, weight='weight'):\n",
    "    if target in memo.dist:\n",
    "        return memo.dist[target]\n",
    "    memo.dist[target] = np.Inf\n",
    "    memo.prev[target] = None\n",
    "    for node in G.predecessors(target):\n",
    "        new_dist = sp_dp_recurse(G, node, memo) + G[node][target][weight]\n",
    "        if new_dist < memo.dist[target]:\n",
    "            memo.dist[target] = new_dist\n",
    "            memo.prev[target] = node\n",
    "            \n",
    "    return memo.dist[target]\n",
    "    \n",
    "\n",
    "def shortest_path_dp(G, source, target, weight='weight'):\n",
    "    memo = ShortestPathResult()\n",
    "    memo.dist[source] = 0 # base state\n",
    "    memo.prev[source] = None\n",
    "    dist = sp_dp_recurse(G, target, memo)\n",
    "    shortest_path = reconstruct_shortest_path(source, target, memo.prev)\n",
    "    \n",
    "    return shortest_path, memo.dist[target]"
   ]
  },
  {
   "cell_type": "markdown",
   "metadata": {},
   "source": [
    "##### Bottom-up approach"
   ]
  },
  {
   "cell_type": "markdown",
   "metadata": {},
   "source": [
    "We also implement bottom-up approach. I.e., we start at source at build solution until we reach the target.\n",
    "\n",
    "This imposes an additional requirement:\n",
    "* Graph should be [topologically sorted](https://en.wikipedia.org/wiki/Topological_sorting#:~:text=In%20computer%20science%2C%20a%20topological,before%20v%20in%20the%20ordering.) - linear ordering of its vertices such that for every directed edge uv from node u to node v, u comes before v in the ordering\n",
    "\n",
    "Actually, due to the structure of our graph, topological sort is not needed. The easiest is to start from source and keep track in deque which node should be visited next.\n",
    "We iterate until deque is empty or we reach target node."
   ]
  },
  {
   "cell_type": "code",
   "execution_count": 92,
   "metadata": {},
   "outputs": [],
   "source": [
    "from collections import deque\n",
    "\n",
    "def shortest_path_dp_bottomup(G, source, target, weight='weight'):\n",
    "#    G = nx.topological_sort(G)\n",
    "    memo = ShortestPathResult()\n",
    "    memo.prev = {node: None for node in G.nodes}\n",
    "    memo.dist = {node: np.Inf for node in G.nodes}\n",
    "    memo.dist[source] = 0\n",
    "    current = source\n",
    "    q = deque()\n",
    "    q.append(source)\n",
    "    while (len(q) > 0) & (current != target):\n",
    "        for nbr in G.successors(current):\n",
    "            q.append(nbr)\n",
    "            new_dist = memo.dist[current] + G[current][nbr][weight]\n",
    "            if new_dist < memo.dist[nbr]:\n",
    "                memo.dist[nbr] = new_dist\n",
    "                memo.prev[nbr] = current\n",
    "        current = q.popleft()    \n",
    "    shortest_path = reconstruct_shortest_path(source, target, memo.prev)\n",
    "    \n",
    "    return shortest_path, memo.dist[target]"
   ]
  },
  {
   "cell_type": "markdown",
   "metadata": {},
   "source": [
    "#### Test case"
   ]
  },
  {
   "cell_type": "code",
   "execution_count": null,
   "metadata": {},
   "outputs": [],
   "source": [
    "ss = list(itertools.product(range(T + 1), range(S + 1)))\n",
    "nodes = [f'S_{stage}_{state}' for stage, state in ss]\n",
    "edges = []\n",
    "for stage, state in ss:\n",
    "    if stage == T:\n",
    "        continue\n",
    "    for i in range(5):\n",
    "        next_state = state + i\n",
    "        if S < next_state:\n",
    "            continue\n",
    "        weight = np.random.normal(loc=10, scale=2)\n",
    "        edge = (f'S_{stage}_{state}', f'S_{stage + 1}_{next_state}', {'weight':weight})\n",
    "        edges.append(edge)\n",
    "        \n",
    "G = nx.DiGraph(edges)\n",
    "\"\"\"\n",
    "G = nx.DiGraph()\n",
    "G.add_nodes_from(nodes)\n",
    "G.add_edges_from(edges)\n",
    "\"\"\""
   ]
  },
  {
   "cell_type": "code",
   "execution_count": 97,
   "metadata": {},
   "outputs": [
    {
     "data": {
      "text/plain": [
       "True"
      ]
     },
     "execution_count": 97,
     "metadata": {},
     "output_type": "execute_result"
    }
   ],
   "source": [
    "path1 = nx.shortest_path(G, 'S_0_0', 'S_10_10', weight='weight')\n",
    "path2 = dijkstra(G, 'S_0_0', 'S_10_10')[0]\n",
    "path1 == path2"
   ]
  },
  {
   "cell_type": "code",
   "execution_count": 104,
   "metadata": {},
   "outputs": [
    {
     "data": {
      "text/plain": [
       "True"
      ]
     },
     "execution_count": 104,
     "metadata": {},
     "output_type": "execute_result"
    }
   ],
   "source": [
    "dist1 = dijkstra(G, 'S_0_0', 'S_10_10')[1]\n",
    "dist2 = shortest_path_dp(G, 'S_0_0', 'S_10_10')[1]\n",
    "dist3 = shortest_path_dp_bottomup(G, 'S_0_0', 'S_10_10')[1]\n",
    "dist1 == dist2 == dist3"
   ]
  },
  {
   "cell_type": "code",
   "execution_count": 109,
   "metadata": {},
   "outputs": [
    {
     "name": "stdout",
     "output_type": "stream",
     "text": [
      "217 µs ± 3.04 µs per loop (mean ± std. dev. of 7 runs, 1000 loops each)\n"
     ]
    }
   ],
   "source": [
    "%%timeit\n",
    "nx.shortest_path(G, 'S_0_0', 'S_10_10', weight='weight')"
   ]
  },
  {
   "cell_type": "code",
   "execution_count": 110,
   "metadata": {},
   "outputs": [
    {
     "name": "stdout",
     "output_type": "stream",
     "text": [
      "476 µs ± 6.69 µs per loop (mean ± std. dev. of 7 runs, 1000 loops each)\n"
     ]
    }
   ],
   "source": [
    "%%timeit\n",
    "shortest_path_dp(G, 'S_0_0', 'S_10_10')"
   ]
  },
  {
   "cell_type": "code",
   "execution_count": 111,
   "metadata": {},
   "outputs": [
    {
     "name": "stdout",
     "output_type": "stream",
     "text": [
      "977 µs ± 8.83 µs per loop (mean ± std. dev. of 7 runs, 1000 loops each)\n"
     ]
    }
   ],
   "source": [
    "%%timeit\n",
    "dijkstra(G, 'S_0_0', 'S_10_10')"
   ]
  },
  {
   "cell_type": "code",
   "execution_count": 112,
   "metadata": {},
   "outputs": [
    {
     "name": "stdout",
     "output_type": "stream",
     "text": [
      "810 ms ± 6.91 ms per loop (mean ± std. dev. of 7 runs, 1 loop each)\n"
     ]
    }
   ],
   "source": [
    "%%timeit\n",
    "shortest_path_dp_bottomup(G, 'S_0_0', 'S_10_10')"
   ]
  },
  {
   "cell_type": "markdown",
   "metadata": {},
   "source": [
    "##### Conclusions\n",
    "\n",
    "1. Networkx package has very well optimized shortest path algorithms (Dijkstra by default)\n",
    "2. Dynamic programming top-down approach seems to efficient for small networks\n",
    "3. Dynamic programming bottom-up (to me the most inuitive approach) is an order of magnitude slower than other algorithms "
   ]
  },
  {
   "cell_type": "markdown",
   "metadata": {},
   "source": [
    "### Buses electric fleet problem\n",
    "**write down what we are trying to solve - DON'T FORGET**"
   ]
  },
  {
   "cell_type": "code",
   "execution_count": 155,
   "metadata": {},
   "outputs": [],
   "source": [
    "def operating_cost(bias, slope, random_realization):\n",
    "    return bias + slope * random_realization\n",
    "\n",
    "\n",
    "def investment_cost(scale, random_realization1, random_realization2):\n",
    "    return scale * random_realization1 * random_realization2\n",
    "\n",
    "\n",
    "def generate_graph(T, S, investment_scale, investment_tech_obs, investment_rate_obs, diesel_bias, diesel_slope, diesel_obs,\n",
    "                    electric_bias, electric_slope, electric_obs, yearly_max_buses, annual_discount):\n",
    "    ss = list(itertools.product(range(T + 1), range(S + 1)))\n",
    "    edges = []\n",
    "    for stage, state in ss:\n",
    "        if stage == T:\n",
    "            investment = investment_cost(investment_scale, investment_tech_obs[stage], investment_rate_obs[stage])\n",
    "            cost = (S - state) * investment * annual_discount[T]\n",
    "            edge = (f'S_{stage}_{state}', f'S_final', {'weight':cost})\n",
    "            edges.append(edge)\n",
    "        else:\n",
    "            for i in range(yearly_max_buses + 1):\n",
    "                next_state = state + i\n",
    "                if S < next_state:\n",
    "                    continue\n",
    "                investment = investment_cost(investment_scale, investment_tech_obs[stage], investment_rate_obs[stage])\n",
    "                operating_diesel = operating_cost(diesel_bias, diesel_slope, diesel_obs[stage])\n",
    "                operating_electric = operating_cost(electric_bias, electric_slope, electric_obs[stage])\n",
    "                cost = (state + i) * operating_electric\n",
    "                cost += (S - state - i) * operating_diesel\n",
    "                cost += i * investment\n",
    "                cost *= annual_discount[stage]\n",
    "                edge = (f'S_{stage}_{state}', f'S_{stage + 1}_{next_state}', {'weight':cost})\n",
    "                edges.append(edge)\n",
    "\n",
    "    return nx.DiGraph(edges)\n",
    "\n",
    "\n",
    "def descriptive_statistics(np_array):\n",
    "    d = {}\n",
    "    d['min'] = np.min(np_array)\n",
    "    d['median'] = np.median(np_array)\n",
    "    d['mean'] = np.mean(np_array)\n",
    "    d['max'] = np.max(np_array)\n",
    "    \n",
    "    return d"
   ]
  },
  {
   "cell_type": "markdown",
   "metadata": {},
   "source": [
    "#### Perfect Information"
   ]
  },
  {
   "cell_type": "code",
   "execution_count": 163,
   "metadata": {},
   "outputs": [],
   "source": [
    "sample_size = 100000\n",
    "T = 10\n",
    "discount_factor = 0.98\n",
    "\n",
    "random_diesel = generate_sample(40, 0, 0.25, T, sample_size)\n",
    "random_electric = generate_sample(150, 0, 0.25, T, sample_size)\n",
    "random_investment_tech = generate_sample(1, -0.05, 0.25, T, sample_size)\n",
    "random_investment_rate = generate_sample(1, 0, 0.25, T, sample_size)\n",
    "annual_discount = np.full(T + 1, discount_factor)\n",
    "annual_discount = np.cumprod(annual_discount)"
   ]
  },
  {
   "cell_type": "code",
   "execution_count": 164,
   "metadata": {},
   "outputs": [],
   "source": [
    "investment_scale = 4 * 10 ** 5\n",
    "diesel_bias = 3600\n",
    "diesel_slope = 155\n",
    "electric_bias = 0\n",
    "electric_slope = 115\n",
    "yearly_max_buses = 4\n",
    "paths = []\n",
    "costs = []\n",
    "for i in range(sample_size):\n",
    "    G = generate_graph(T, S, investment_scale, random_investment_tech[i], random_investment_rate[i],\n",
    "                       diesel_bias, diesel_slope, random_diesel[i], electric_bias, electric_slope,\n",
    "                       random_electric[i], yearly_max_buses, annual_discount)\n",
    "    \n",
    "    path, cost = shortest_path_dp(G, 'S_0_0', 'S_final')\n",
    "    paths.append(path)\n",
    "    costs.append(cost)"
   ]
  },
  {
   "cell_type": "code",
   "execution_count": 165,
   "metadata": {},
   "outputs": [],
   "source": [
    "costs = np.round(costs)"
   ]
  },
  {
   "cell_type": "code",
   "execution_count": 166,
   "metadata": {},
   "outputs": [
    {
     "data": {
      "text/plain": [
       "{'min': 685540.0, 'median': 1587065.0, 'mean': 1633799.63803, 'max': 5062634.0}"
      ]
     },
     "execution_count": 166,
     "metadata": {},
     "output_type": "execute_result"
    }
   ],
   "source": [
    "descriptive_statistics(costs)"
   ]
  },
  {
   "cell_type": "markdown",
   "metadata": {},
   "source": [
    "#### Static Policy"
   ]
  },
  {
   "cell_type": "code",
   "execution_count": 172,
   "metadata": {},
   "outputs": [],
   "source": [
    "expected_diesel = np.full(T + 1, 40)\n",
    "expected_electric = np.full(T + 1, 150)\n",
    "expected_investment_tech = np.zeros(T + 1)\n",
    "expected_investment_rate = np.full(T + 1, 1)\n",
    "for t in range(T + 1):\n",
    "    expected_investment_tech[t] = np.exp(-0.05 * t)\n",
    "\n",
    "G = generate_graph(T, S, investment_scale, expected_investment_tech, expected_investment_rate,\n",
    "                       diesel_bias, diesel_slope, expected_diesel, electric_bias, electric_slope,\n",
    "                       expected_electric, yearly_max_buses, annual_discount)\n",
    "path, cost = shortest_path_dp(G, 'S_0_0', 'S_final')"
   ]
  },
  {
   "cell_type": "code",
   "execution_count": 174,
   "metadata": {},
   "outputs": [
    {
     "data": {
      "text/plain": [
       "2821089.0"
      ]
     },
     "execution_count": 174,
     "metadata": {},
     "output_type": "execute_result"
    }
   ],
   "source": [
    "round(cost)"
   ]
  },
  {
   "cell_type": "code",
   "execution_count": 175,
   "metadata": {},
   "outputs": [
    {
     "data": {
      "text/plain": [
       "['S_0_0',\n",
       " 'S_1_0',\n",
       " 'S_2_0',\n",
       " 'S_3_0',\n",
       " 'S_4_0',\n",
       " 'S_5_0',\n",
       " 'S_6_0',\n",
       " 'S_7_0',\n",
       " 'S_8_0',\n",
       " 'S_9_0',\n",
       " 'S_10_0',\n",
       " 'S_final']"
      ]
     },
     "execution_count": 175,
     "metadata": {},
     "output_type": "execute_result"
    }
   ],
   "source": [
    "path"
   ]
  },
  {
   "cell_type": "markdown",
   "metadata": {},
   "source": [
    "### Gurobi optimization"
   ]
  },
  {
   "cell_type": "code",
   "execution_count": 7,
   "metadata": {},
   "outputs": [],
   "source": [
    "import gurobipy as gp\n",
    "from gurobipy import GRB\n",
    "import math"
   ]
  },
  {
   "cell_type": "code",
   "execution_count": 82,
   "metadata": {},
   "outputs": [],
   "source": [
    "m = gp.Model('so')\n",
    "at = [m.addVar(vtype=GRB.INTEGER, name=f'a_{t}') for t in range(T)]\n",
    "st = [m.addVar(vtype=GRB.INTEGER, name=f's_{t}') for t in range(T + 1)]\n",
    "\n",
    "m.update()"
   ]
  },
  {
   "cell_type": "code",
   "execution_count": 83,
   "metadata": {},
   "outputs": [],
   "source": [
    "electric = [150 * 115 * (st[i] + at[i]) for i in range(T)]\n",
    "diesel = [(3600 + 155 * 40) * (10 - st[i] - at[i]) for i in range(T)]\n",
    "invest = [4*10**5 * math.exp(-0.05*t) * at[i] for i in range(T)]\n",
    "final = [(10 - st[T]) * (4 * 10 ** 5) * math.exp(-0.05 * T)]"
   ]
  },
  {
   "cell_type": "code",
   "execution_count": 84,
   "metadata": {},
   "outputs": [],
   "source": [
    "obj = []\n",
    "obj.extend(electric)\n",
    "obj.extend(diesel)\n",
    "obj.extend(invest)\n",
    "obj.extend(final)\n",
    "\n",
    "m.setObjective(sum(obj))"
   ]
  },
  {
   "cell_type": "code",
   "execution_count": 26,
   "metadata": {},
   "outputs": [
    {
     "name": "stdout",
     "output_type": "stream",
     "text": [
      "Gurobi Optimizer version 9.0.3 build v9.0.3rc0 (mac64)\n",
      "Optimize a model with 2 rows, 3 columns and 5 nonzeros\n",
      "Model fingerprint: 0xf43f5bdf\n",
      "Variable types: 0 continuous, 3 integer (3 binary)\n",
      "Coefficient statistics:\n",
      "  Matrix range     [1e+00, 3e+00]\n",
      "  Objective range  [1e+00, 2e+00]\n",
      "  Bounds range     [1e+00, 1e+00]\n",
      "  RHS range        [1e+00, 4e+00]\n",
      "Found heuristic solution: objective 2.0000000\n",
      "Presolve removed 2 rows and 3 columns\n",
      "Presolve time: 0.00s\n",
      "Presolve: All rows and columns removed\n",
      "\n",
      "Explored 0 nodes (0 simplex iterations) in 0.01 seconds\n",
      "Thread count was 1 (of 16 available processors)\n",
      "\n",
      "Solution count 2: 3 \n",
      "\n",
      "Optimal solution found (tolerance 1.00e-04)\n",
      "Best objective 3.000000000000e+00, best bound 3.000000000000e+00, gap 0.0000%\n",
      "x 1\n",
      "y 0\n",
      "z 1\n",
      "Obj: 3\n"
     ]
    }
   ],
   "source": [
    "try:\n",
    "\n",
    "    # Create a new model\n",
    "    m = gp.Model(\"mip1\")\n",
    "\n",
    "    # Create variables\n",
    "    x = m.addVar(vtype=GRB.BINARY, name=\"x\")\n",
    "    y = m.addVar(vtype=GRB.BINARY, name=\"y\")\n",
    "    z = m.addVar(vtype=GRB.BINARY, name=\"z\")\n",
    "\n",
    "    # Set objective\n",
    "    m.setObjective(x + y + 2 * z, GRB.MAXIMIZE)\n",
    "\n",
    "    # Add constraint: x + 2 y + 3 z <= 4\n",
    "    m.addConstr(x + 2 * y + 3 * z <= 4, \"c0\")\n",
    "\n",
    "    # Add constraint: x + y >= 1\n",
    "    m.addConstr(x + y >= 1, \"c1\")\n",
    "\n",
    "    # Optimize model\n",
    "    m.optimize()\n",
    "\n",
    "    for v in m.getVars():\n",
    "        print('%s %g' % (v.varName, v.x))\n",
    "\n",
    "    print('Obj: %g' % m.objVal)\n",
    "\n",
    "except gp.GurobiError as e:\n",
    "    print('Error code ' + str(e.errno) + ': ' + str(e))\n",
    "\n",
    "except AttributeError:\n",
    "    print('Encountered an attribute error')"
   ]
  },
  {
   "cell_type": "code",
   "execution_count": null,
   "metadata": {},
   "outputs": [],
   "source": []
  }
 ],
 "metadata": {
  "kernelspec": {
   "display_name": "Python 3",
   "language": "python",
   "name": "python3"
  },
  "language_info": {
   "codemirror_mode": {
    "name": "ipython",
    "version": 3
   },
   "file_extension": ".py",
   "mimetype": "text/x-python",
   "name": "python",
   "nbconvert_exporter": "python",
   "pygments_lexer": "ipython3",
   "version": "3.7.3"
  }
 },
 "nbformat": 4,
 "nbformat_minor": 4
}
