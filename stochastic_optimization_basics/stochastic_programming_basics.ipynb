{
 "cells": [
  {
   "cell_type": "markdown",
   "metadata": {},
   "source": [
    "### Wiener process and Geometric Brownian Motion (GBM)"
   ]
  },
  {
   "cell_type": "code",
   "execution_count": 380,
   "metadata": {},
   "outputs": [],
   "source": [
    "from math import sqrt, exp\n",
    "import numpy as np"
   ]
  },
  {
   "cell_type": "code",
   "execution_count": 381,
   "metadata": {},
   "outputs": [],
   "source": [
    "def rnorm(mu=0, sigma=1):\n",
    "    return np.random.normal(0, 1)\n",
    "\n",
    "\n",
    "def wiener_process(T):\n",
    "    wiener = np.zeros(T)\n",
    "    for t in range(T):\n",
    "        Wt = sqrt(t + 1) * rnorm(0, 1)\n",
    "        wiener[t] = Wt\n",
    "        \n",
    "    return wiener\n",
    "\n",
    "\n",
    "def GBM(S0, mu, sigma, T):\n",
    "    gbm = np.zeros(T + 1)\n",
    "    gbm[0] = S0\n",
    "    wiener = wiener_process(T)\n",
    "    for t in range(1, T + 1):\n",
    "        drift = mu - (sigma ** 2) / 2\n",
    "        drift = drift * t\n",
    "        vol = sigma * wiener[t - 1]\n",
    "        St = S0 * exp(drift + vol)\n",
    "        gbm[t] = St\n",
    "    \n",
    "    return gbm"
   ]
  },
  {
   "cell_type": "markdown",
   "metadata": {},
   "source": [
    "#### Geometric Brownian Motion (GBM) moments\n",
    "$\\mathrm{E}[S_t] = S_0 \\cdot e^{\\mu t}, \\, t=1,\\ldots, T$\n",
    "\n",
    "$\\mathrm{Var}[S_t] = S_0^2 \\cdot e^{2\\mu t} \\cdot (e^{\\sigma^2 t} - 1), \\, t=1,\\ldots, T$"
   ]
  },
  {
   "cell_type": "code",
   "execution_count": 422,
   "metadata": {},
   "outputs": [],
   "source": [
    "def generate_sample_with_offset(S0, mu, sigma, T, sample_size):\n",
    "    sample = np.zeros(shape=(sample_size, T + 1))\n",
    "    for i in range(sample_size): \n",
    "        gbm = GBM(S0, mu, sigma, T + 1)\n",
    "        sample[i] = gbm[1:T + 2]\n",
    "        \n",
    "    return sample\n",
    "\n",
    "\n",
    "def generate_sample(S0, mu, sigma, T, sample_size):\n",
    "    sample = np.zeros(shape=(sample_size, T + 1))\n",
    "    for i in range(sample_size): \n",
    "        gbm = GBM(S0, mu, sigma, T)\n",
    "        sample[i] = gbm\n",
    "        \n",
    "    return sample\n",
    "\n",
    "\n",
    "def gbm_mean(S0, mu, t):\n",
    "    return S0 * exp(mu * t)\n",
    "\n",
    "\n",
    "def gbm_std(S0, mu, sigma, t):\n",
    "    std = S0 ** 2\n",
    "    std *= exp(2 * mu * t)\n",
    "    std *= (exp(sigma ** 2 * t) - 1)\n",
    "    \n",
    "    return sqrt(std)"
   ]
  },
  {
   "cell_type": "code",
   "execution_count": 456,
   "metadata": {},
   "outputs": [],
   "source": [
    "sample_size = 1000\n",
    "S = 10\n",
    "T = 10"
   ]
  },
  {
   "cell_type": "markdown",
   "metadata": {},
   "source": [
    "##### Test case 1\n",
    "For $\\mu = 0$ we expect $\\mathrm{E}[S_t] = S_0, \\, t=1,\\ldots, T$"
   ]
  },
  {
   "cell_type": "code",
   "execution_count": 457,
   "metadata": {},
   "outputs": [
    {
     "data": {
      "text/plain": [
       "array([40.        , 39.79991249, 39.52958531, 38.89862582, 40.06080848,\n",
       "       39.01409927, 39.97001787, 39.86729242, 40.48300978, 39.45133916,\n",
       "       41.24893523])"
      ]
     },
     "execution_count": 457,
     "metadata": {},
     "output_type": "execute_result"
    }
   ],
   "source": [
    "S0 = 40\n",
    "mu = 0\n",
    "sigma = 0.25\n",
    "\n",
    "sample = generate_sample(S0, mu, sigma, T, sample_size)\n",
    "sample.mean(axis=0)"
   ]
  },
  {
   "cell_type": "markdown",
   "metadata": {},
   "source": [
    "##### Test case 2\n",
    "\n",
    "For $\\mu > 0$ we expect $\\mathbb{E}[S_t] = S_0 \\cdot e^{\\mu t}, \\, t=1,\\ldots, T$"
   ]
  },
  {
   "cell_type": "code",
   "execution_count": 458,
   "metadata": {},
   "outputs": [
    {
     "data": {
      "text/plain": [
       "array([ 40.        ,  44.32607478,  47.85027293,  53.80183427,\n",
       "        57.9746093 ,  64.4056902 ,  73.79651986,  81.45202112,\n",
       "        86.64733411,  98.58983373, 108.57619567])"
      ]
     },
     "execution_count": 458,
     "metadata": {},
     "output_type": "execute_result"
    }
   ],
   "source": [
    "S0 = 40\n",
    "mu = 0.1\n",
    "sigma = 0.25\n",
    "\n",
    "sample = generate_sample(S0, mu, sigma, T, sample_size)\n",
    "sample.mean(axis=0)"
   ]
  },
  {
   "cell_type": "code",
   "execution_count": 459,
   "metadata": {},
   "outputs": [
    {
     "name": "stdout",
     "output_type": "stream",
     "text": [
      "40.0\n",
      "44.20683672302591\n",
      "48.85611032640679\n",
      "53.99435230304013\n",
      "59.672987905650814\n",
      "65.94885082800513\n",
      "72.88475201562036\n",
      "80.55010829881907\n",
      "89.02163713969871\n",
      "98.384124446278\n",
      "108.7312731383618\n"
     ]
    }
   ],
   "source": [
    "for t in range(0, T + 1):\n",
    "    print(gbm_mean(S0, mu, t))"
   ]
  },
  {
   "cell_type": "markdown",
   "metadata": {},
   "source": [
    "### Shortest path algorithms"
   ]
  },
  {
   "cell_type": "code",
   "execution_count": 460,
   "metadata": {},
   "outputs": [],
   "source": [
    "import networkx as nx\n",
    "import itertools\n",
    "import matplotlib.pyplot as plt"
   ]
  },
  {
   "cell_type": "code",
   "execution_count": 461,
   "metadata": {},
   "outputs": [],
   "source": [
    "class ShortestPathResult():\n",
    "    def __init__(self):\n",
    "        self.dist = {}\n",
    "        self.prev = {}"
   ]
  },
  {
   "cell_type": "markdown",
   "metadata": {},
   "source": [
    "#### Dijkstra - basic implementation"
   ]
  },
  {
   "cell_type": "code",
   "execution_count": 462,
   "metadata": {},
   "outputs": [],
   "source": [
    "def reconstruct_shortest_path(source, target, prev):\n",
    "    if source != target:\n",
    "        path = reconstruct_shortest_path(source, prev[target], prev)\n",
    "        path.append(target)\n",
    "        return path\n",
    "    else:\n",
    "        path = [source]\n",
    "        return path\n",
    "\n",
    "def dijkstra(G, source, target, weight='weight'):\n",
    "    memo = ShortestPathResult()\n",
    "    memo.prev = {node: None for node in G.nodes}\n",
    "    memo.dist = {node: np.Inf for node in G.nodes}\n",
    "    memo.dist[source] = 0\n",
    "    memo.unvisited = memo.dist.copy()\n",
    "    current = source\n",
    "    while (len(memo.unvisited) > 0) & (current != target):\n",
    "        for nbr, attrs in G[current].items():\n",
    "            if not nbr in memo.unvisited:\n",
    "                continue\n",
    "            d = attrs[weight] \n",
    "            new_dist = memo.dist[current] + d\n",
    "            if new_dist < memo.dist[nbr]:\n",
    "                memo.dist[nbr] = new_dist\n",
    "                memo.prev[nbr] = current\n",
    "   \n",
    "        del memo.unvisited[current]\n",
    "        current = min(memo.unvisited, key=memo.unvisited.get)    \n",
    "    shortest_path = reconstruct_shortest_path(source, target, memo.prev)\n",
    "    \n",
    "    return shortest_path, memo.dist[target]"
   ]
  },
  {
   "cell_type": "markdown",
   "metadata": {},
   "source": [
    "#### Dynamic programming"
   ]
  },
  {
   "cell_type": "markdown",
   "metadata": {},
   "source": [
    "##### Top-down approach"
   ]
  },
  {
   "cell_type": "markdown",
   "metadata": {},
   "source": [
    "We will use the fact that $SP(s, t) = \\min\\{SP(s, u) + w(u, t) | (u, t) \\in E\\}$\n",
    "\n",
    "First top-down approach is implemented. I.e., we start from target node and recourse until we end up at the source.\n",
    "\n",
    "Requirements:\n",
    "* Graph should be directed, i.e., need to support innode operation"
   ]
  },
  {
   "cell_type": "code",
   "execution_count": 463,
   "metadata": {},
   "outputs": [],
   "source": [
    "def sp_dp_recurse(G, target, memo, weight='weight'):\n",
    "    if target in memo.dist:\n",
    "        return memo.dist[target]\n",
    "    memo.dist[target] = np.Inf\n",
    "    memo.prev[target] = None\n",
    "    for node in G.predecessors(target):\n",
    "        new_dist = sp_dp_recurse(G, node, memo) + G[node][target][weight]\n",
    "        if new_dist < memo.dist[target]:\n",
    "            memo.dist[target] = new_dist\n",
    "            memo.prev[target] = node\n",
    "            \n",
    "    return memo.dist[target]\n",
    "    \n",
    "\n",
    "def shortest_path_dp(G, source, target, weight='weight'):\n",
    "    memo = ShortestPathResult()\n",
    "    memo.dist[source] = 0 # base state\n",
    "    memo.prev[source] = None\n",
    "    dist = sp_dp_recurse(G, target, memo)\n",
    "    shortest_path = reconstruct_shortest_path(source, target, memo.prev)\n",
    "    \n",
    "    return shortest_path, memo.dist[target]"
   ]
  },
  {
   "cell_type": "markdown",
   "metadata": {},
   "source": [
    "##### Bottom-up approach"
   ]
  },
  {
   "cell_type": "markdown",
   "metadata": {},
   "source": [
    "We also implement bottom-up approach. I.e., we start at source at build solution until we reach the target.\n",
    "\n",
    "This imposes an additional requirement:\n",
    "* Graph should be [topologically sorted](https://en.wikipedia.org/wiki/Topological_sorting#:~:text=In%20computer%20science%2C%20a%20topological,before%20v%20in%20the%20ordering.) - linear ordering of its vertices such that for every directed edge uv from node u to node v, u comes before v in the ordering\n",
    "\n",
    "Actually, due to the structure of our graph, topological sort is not needed. The easiest is to start from source and keep track in deque which node should be visited next.\n",
    "We iterate until deque is empty or we reach target node."
   ]
  },
  {
   "cell_type": "code",
   "execution_count": 464,
   "metadata": {},
   "outputs": [],
   "source": [
    "# TRY TO REWRITE THIS!\n",
    "# Understand why it is 10x slower than other implementations. Probably because of queue\n",
    "\n",
    "from collections import deque\n",
    "\n",
    "def shortest_path_dp_bottomup(G, source, target, weight='weight'):\n",
    "#    G = nx.topological_sort(G)\n",
    "    memo = ShortestPathResult()\n",
    "    memo.prev = {node: None for node in G.nodes}\n",
    "    memo.dist = {node: np.Inf for node in G.nodes}\n",
    "    memo.dist[source] = 0\n",
    "    current = source\n",
    "    q = deque()\n",
    "    q.append(source)\n",
    "    while (len(q) > 0) & (current != target):\n",
    "        for nbr in G.successors(current):\n",
    "            q.append(nbr)\n",
    "            new_dist = memo.dist[current] + G[current][nbr][weight]\n",
    "            if new_dist < memo.dist[nbr]:\n",
    "                memo.dist[nbr] = new_dist\n",
    "                memo.prev[nbr] = current\n",
    "        current = q.popleft()    \n",
    "    shortest_path = reconstruct_shortest_path(source, target, memo.prev)\n",
    "    \n",
    "    return shortest_path, memo.dist[target]"
   ]
  },
  {
   "cell_type": "markdown",
   "metadata": {},
   "source": [
    "#### Test case"
   ]
  },
  {
   "cell_type": "code",
   "execution_count": 465,
   "metadata": {},
   "outputs": [
    {
     "data": {
      "text/plain": [
       "'\\nG = nx.DiGraph()\\nG.add_nodes_from(nodes)\\nG.add_edges_from(edges)\\n'"
      ]
     },
     "execution_count": 465,
     "metadata": {},
     "output_type": "execute_result"
    }
   ],
   "source": [
    "ss = list(itertools.product(range(T + 1), range(S + 1)))\n",
    "nodes = [f'S_{stage}_{state}' for stage, state in ss]\n",
    "edges = []\n",
    "for stage, state in ss:\n",
    "    if stage == T:\n",
    "        continue\n",
    "    for i in range(5):\n",
    "        next_state = state + i\n",
    "        if S < next_state:\n",
    "            continue\n",
    "        weight = np.random.normal(loc=10, scale=2)\n",
    "        edge = (f'S_{stage}_{state}', f'S_{stage + 1}_{next_state}', {'weight':weight})\n",
    "        edges.append(edge)\n",
    "        \n",
    "G = nx.DiGraph(edges)\n",
    "\"\"\"\n",
    "G = nx.DiGraph()\n",
    "G.add_nodes_from(nodes)\n",
    "G.add_edges_from(edges)\n",
    "\"\"\""
   ]
  },
  {
   "cell_type": "code",
   "execution_count": 466,
   "metadata": {},
   "outputs": [
    {
     "data": {
      "text/plain": [
       "True"
      ]
     },
     "execution_count": 466,
     "metadata": {},
     "output_type": "execute_result"
    }
   ],
   "source": [
    "path1 = nx.shortest_path(G, 'S_0_0', 'S_10_10', weight='weight')\n",
    "path2 = dijkstra(G, 'S_0_0', 'S_10_10')[0]\n",
    "path1 == path2"
   ]
  },
  {
   "cell_type": "code",
   "execution_count": 467,
   "metadata": {},
   "outputs": [
    {
     "data": {
      "text/plain": [
       "True"
      ]
     },
     "execution_count": 467,
     "metadata": {},
     "output_type": "execute_result"
    }
   ],
   "source": [
    "dist1 = dijkstra(G, 'S_0_0', 'S_10_10')[1]\n",
    "dist2 = shortest_path_dp(G, 'S_0_0', 'S_10_10')[1]\n",
    "dist3 = shortest_path_dp_bottomup(G, 'S_0_0', 'S_10_10')[1]\n",
    "dist1 == dist2 == dist3"
   ]
  },
  {
   "cell_type": "code",
   "execution_count": 468,
   "metadata": {},
   "outputs": [
    {
     "name": "stdout",
     "output_type": "stream",
     "text": [
      "230 µs ± 2.96 µs per loop (mean ± std. dev. of 7 runs, 1000 loops each)\n"
     ]
    }
   ],
   "source": [
    "%%timeit\n",
    "nx.shortest_path(G, 'S_0_0', 'S_10_10', weight='weight')"
   ]
  },
  {
   "cell_type": "code",
   "execution_count": 469,
   "metadata": {},
   "outputs": [
    {
     "name": "stdout",
     "output_type": "stream",
     "text": [
      "489 µs ± 8.39 µs per loop (mean ± std. dev. of 7 runs, 1000 loops each)\n"
     ]
    }
   ],
   "source": [
    "%%timeit\n",
    "shortest_path_dp(G, 'S_0_0', 'S_10_10')"
   ]
  },
  {
   "cell_type": "code",
   "execution_count": 470,
   "metadata": {},
   "outputs": [
    {
     "name": "stdout",
     "output_type": "stream",
     "text": [
      "824 µs ± 53.5 µs per loop (mean ± std. dev. of 7 runs, 1000 loops each)\n"
     ]
    }
   ],
   "source": [
    "%%timeit\n",
    "dijkstra(G, 'S_0_0', 'S_10_10')"
   ]
  },
  {
   "cell_type": "code",
   "execution_count": 471,
   "metadata": {},
   "outputs": [
    {
     "name": "stdout",
     "output_type": "stream",
     "text": [
      "808 ms ± 4.78 ms per loop (mean ± std. dev. of 7 runs, 1 loop each)\n"
     ]
    }
   ],
   "source": [
    "%%timeit\n",
    "shortest_path_dp_bottomup(G, 'S_0_0', 'S_10_10')"
   ]
  },
  {
   "cell_type": "markdown",
   "metadata": {},
   "source": [
    "##### Conclusions\n",
    "\n",
    "1. Networkx package has very well optimized shortest path algorithms (Dijkstra by default)\n",
    "2. Dynamic programming top-down approach seems to efficient for small networks\n",
    "3. Dynamic programming bottom-up (to me the most inuitive approach) is an order of magnitude slower than other algorithms "
   ]
  },
  {
   "cell_type": "markdown",
   "metadata": {},
   "source": [
    "### Buses electric fleet problem\n",
    "**write down what we are trying to solve - DON'T FORGET**"
   ]
  },
  {
   "cell_type": "code",
   "execution_count": 472,
   "metadata": {},
   "outputs": [],
   "source": [
    "def operating_cost(bias, slope, random_realization):\n",
    "    return bias + slope * random_realization\n",
    "\n",
    "\n",
    "def investment_cost(scale, random_realization1, random_realization2):\n",
    "    return scale * random_realization1 * random_realization2\n",
    "\n",
    "\n",
    "def generate_graph(investment_tech_obs, investment_rate_obs, diesel_obs, electric_obs):\n",
    "    ss = list(itertools.product(range(T + 1), range(S + 1)))\n",
    "    edges = []\n",
    "    for stage, state in ss:\n",
    "        if stage == T:\n",
    "            investment = investment_cost(investment_scale, investment_tech_obs[stage], investment_rate_obs[stage])\n",
    "            cost = (S - state) * investment * annual_discount[stage]\n",
    "            edge = (f'S_{stage}_{state}', f'S_{T + 1}_{S}', {'weight':cost})\n",
    "            edges.append(edge)\n",
    "        else:\n",
    "            for i in range(yearly_max_buses + 1):\n",
    "                next_state = state + i\n",
    "                if S < next_state:\n",
    "                    continue\n",
    "                investment = investment_cost(investment_scale, investment_tech_obs[stage], investment_rate_obs[stage])\n",
    "                operating_diesel = operating_cost(diesel_bias, diesel_slope, diesel_obs[stage])\n",
    "                operating_electric = operating_cost(electric_bias, electric_slope, electric_obs[stage])\n",
    "                cost = next_state * operating_electric\n",
    "                cost += (S - next_state) * operating_diesel\n",
    "                cost += i * investment\n",
    "                cost *= annual_discount[stage]\n",
    "                edge = (f'S_{stage}_{state}', f'S_{stage + 1}_{next_state}', {'weight':cost})\n",
    "                edges.append(edge)\n",
    "\n",
    "    return nx.DiGraph(edges)\n",
    "\n",
    "\n",
    "def descriptive_statistics(np_array):\n",
    "    d = {}\n",
    "    d['min'] = np.min(np_array)\n",
    "    d['median'] = np.median(np_array)\n",
    "    d['mean'] = np.mean(np_array)\n",
    "    d['max'] = np.max(np_array)\n",
    "    \n",
    "    return d"
   ]
  },
  {
   "cell_type": "markdown",
   "metadata": {},
   "source": [
    "#### Perfect Information"
   ]
  },
  {
   "cell_type": "code",
   "execution_count": 473,
   "metadata": {},
   "outputs": [],
   "source": [
    "discount_factor = 0.98\n",
    "\n",
    "diesel_s0 = 40\n",
    "diesel_mu = 0\n",
    "diesel_sigma = 0.25\n",
    "\n",
    "electric_s0 = 150\n",
    "electric_mu = 0\n",
    "electric_sigma = 0.25\n",
    "\n",
    "investment_tech_s0 = 1\n",
    "investment_tech_mu = -0.05\n",
    "investment_tech_sigma = 0.25\n",
    "\n",
    "investment_rate_s0 = 1\n",
    "investment_rate_mu = 0\n",
    "investment_rate_sigma = 0.25"
   ]
  },
  {
   "cell_type": "code",
   "execution_count": 474,
   "metadata": {},
   "outputs": [],
   "source": [
    "random_diesel = generate_sample(diesel_s0, diesel_mu, diesel_sigma, T, sample_size)\n",
    "random_electric = generate_sample(electric_s0, electric_mu, electric_sigma, T, sample_size)\n",
    "random_investment_tech = generate_sample(investment_tech_s0, investment_tech_mu, investment_tech_sigma, T, sample_size)\n",
    "random_investment_rate = generate_sample(investment_rate_s0, investment_rate_mu, investment_rate_sigma, T, sample_size)\n",
    "annual_discount = np.full(T + 1, discount_factor)\n",
    "annual_discount = np.cumprod(annual_discount)"
   ]
  },
  {
   "cell_type": "code",
   "execution_count": 475,
   "metadata": {},
   "outputs": [],
   "source": [
    "investment_scale = 4 * 10 ** 5\n",
    "diesel_bias = 3600\n",
    "diesel_slope = 155\n",
    "electric_bias = 0\n",
    "electric_slope = 115\n",
    "yearly_max_buses = 4\n",
    "pi_paths = []\n",
    "pi_costs = []\n",
    "for i in range(sample_size):\n",
    "    G = generate_graph(random_investment_tech[i], random_investment_rate[i], random_diesel[i], random_electric[i])\n",
    "    \n",
    "    path, cost = shortest_path_dp(G, 'S_0_0', f'S_{T + 1}_{S}')\n",
    "    pi_paths.append(path)\n",
    "    pi_costs.append(cost)"
   ]
  },
  {
   "cell_type": "code",
   "execution_count": 476,
   "metadata": {},
   "outputs": [],
   "source": [
    "pi_costs = np.round(pi_costs)"
   ]
  },
  {
   "cell_type": "code",
   "execution_count": 477,
   "metadata": {},
   "outputs": [
    {
     "data": {
      "text/plain": [
       "{'min': 777891.0, 'median': 1589541.5, 'mean': 1643184.751, 'max': 3798830.0}"
      ]
     },
     "execution_count": 477,
     "metadata": {},
     "output_type": "execute_result"
    }
   ],
   "source": [
    "descriptive_statistics(pi_costs)"
   ]
  },
  {
   "cell_type": "markdown",
   "metadata": {},
   "source": [
    "#### Static Policy"
   ]
  },
  {
   "cell_type": "code",
   "execution_count": 478,
   "metadata": {},
   "outputs": [],
   "source": [
    "expected_diesel = np.full(T + 1, 40)\n",
    "expected_electric = np.full(T + 1, 150)\n",
    "expected_investment_tech = np.zeros(T + 1)\n",
    "expected_investment_rate = np.full(T + 1, 1)\n",
    "for t in range(T + 1):\n",
    "    expected_investment_tech[t] = np.exp(-0.05 * t)\n",
    "\n",
    "G = generate_graph(expected_investment_tech, expected_investment_rate, expected_diesel, expected_electric)\n",
    "si_path, si_cost = shortest_path_dp(G, 'S_0_0', f'S_{T + 1}_{S}')"
   ]
  },
  {
   "cell_type": "code",
   "execution_count": 479,
   "metadata": {},
   "outputs": [
    {
     "data": {
      "text/plain": [
       "2821089.0"
      ]
     },
     "execution_count": 479,
     "metadata": {},
     "output_type": "execute_result"
    }
   ],
   "source": [
    "round(si_cost)"
   ]
  },
  {
   "cell_type": "code",
   "execution_count": 480,
   "metadata": {},
   "outputs": [
    {
     "data": {
      "text/plain": [
       "2821088.8390174466"
      ]
     },
     "execution_count": 480,
     "metadata": {},
     "output_type": "execute_result"
    }
   ],
   "source": [
    "si_cost"
   ]
  },
  {
   "cell_type": "markdown",
   "metadata": {},
   "source": [
    "#### Value of knowing perfect information\n",
    "\n",
    "Birge introduces the concept as follows:\n",
    "1. Having perfect information is the best. We can calculate average cost given such information, WS — wait-and-see\n",
    "2. Knowing that uncertainty exists and using it during the optimization is second best, its average cost is RP — recourse problem\n",
    "3. Taking uncertainty average and pretending it doesn't exist always yields the worst solution. Given static policy we can calculate EEV — expectation of expected value, i.e., calculate the cost of expected value solution given a realization of random process. If the process is finite discrete, we can calculate expectation exactly, otherwise, approximate it with a mean over big enough sample\n",
    "We always have $WS \\leq RP \\leq EEV$\n",
    "\n",
    "$EVPI = RP - WS$, expexted value of perfect information is the difference between solution knowing perfect information and solving stochastic problem\n",
    "$VSS = EEV - RP$, value of stochastic solution is the difference between solving stochastic problem and expected value solution\n",
    "\n",
    "In our case, we have EEV and WS and we would like to calculated a gap between the two, i.e., $gap = WS - EEV$ "
   ]
  },
  {
   "cell_type": "code",
   "execution_count": 481,
   "metadata": {},
   "outputs": [],
   "source": [
    "def eev_ws_gap(si_costs, pi_costs):\n",
    "    return round(np.mean(si_costs) - np.mean(pi_costs))\n",
    "\n",
    "\n",
    "def get_path_cost(path, investment_tech_obs, investment_rate_obs, diesel_obs, electric_obs):\n",
    "    total_cost = 0\n",
    "    for source, target in zip(path[:-1], path[1:]):\n",
    "        source_stage = int(source.split('_')[-2])\n",
    "        source_state = int(source.split('_')[-1])\n",
    "        target_stage = int(target.split('_')[-2])\n",
    "        target_state = int(target.split('_')[-1])\n",
    "        if target_stage == T + 1:\n",
    "            investment = investment_cost(investment_scale, investment_tech_obs[source_stage], investment_rate_obs[source_stage])\n",
    "            cost = (S - source_state) * investment * annual_discount[source_stage]        \n",
    "        else:\n",
    "            investment = investment_cost(investment_scale, investment_tech_obs[source_stage], investment_rate_obs[source_stage])\n",
    "            operating_diesel = operating_cost(diesel_bias, diesel_slope, diesel_obs[source_stage])\n",
    "            operating_electric = operating_cost(electric_bias, electric_slope, electric_obs[source_stage])\n",
    "            cost = target_state * operating_electric\n",
    "            cost += (S - target_state) * operating_diesel\n",
    "            cost += (target_state - source_state) * investment\n",
    "            cost *= annual_discount[source_stage]\n",
    "        total_cost += cost\n",
    "        \n",
    "    return total_cost"
   ]
  },
  {
   "cell_type": "markdown",
   "metadata": {},
   "source": [
    "##### Test\n",
    "\n",
    "Comparing perfect information costs found by shortest path algorithm to the ones calculated given path  "
   ]
  },
  {
   "cell_type": "code",
   "execution_count": 482,
   "metadata": {},
   "outputs": [
    {
     "name": "stdout",
     "output_type": "stream",
     "text": [
      "True\n",
      "True\n",
      "True\n",
      "True\n",
      "True\n",
      "True\n",
      "True\n",
      "True\n",
      "True\n",
      "True\n"
     ]
    }
   ],
   "source": [
    "for i in range(10):\n",
    "    c = get_path_cost(pi_paths[i], random_investment_tech[i], random_investment_rate[i], random_diesel[i], random_electric[i])\n",
    "    print(pi_costs[i] == round(c))"
   ]
  },
  {
   "cell_type": "markdown",
   "metadata": {},
   "source": [
    "### Gaps between perfect information and static policy"
   ]
  },
  {
   "cell_type": "markdown",
   "metadata": {},
   "source": [
    "##### Mean of gaps between perfect information and static policy costs"
   ]
  },
  {
   "cell_type": "code",
   "execution_count": 490,
   "metadata": {},
   "outputs": [
    {
     "name": "stdout",
     "output_type": "stream",
     "text": [
      "Gaps mean: 1200490.519\n",
      "Gaps std: 2731173.860312062\n"
     ]
    }
   ],
   "source": [
    "si_costs = []\n",
    "for i in range(sample_size):\n",
    "    c = get_path_cost(si_path, random_investment_tech[i], random_investment_rate[i],random_diesel[i], random_electric[i])\n",
    "    si_costs.append(c)\n",
    "si_costs = np.round(si_costs)\n",
    "gaps = si_costs - pi_costs\n",
    "print(f'Gaps mean: {np.mean(gaps)}')\n",
    "print(f'Gaps std: {np.std(gaps)}')"
   ]
  },
  {
   "cell_type": "markdown",
   "metadata": {},
   "source": [
    "##### Alternatively, gap between perfect information and expected value solution means\n",
    "This yields the same results as above, but is more in the spirit of the approach"
   ]
  },
  {
   "cell_type": "code",
   "execution_count": 491,
   "metadata": {},
   "outputs": [
    {
     "data": {
      "text/plain": [
       "1200491.0"
      ]
     },
     "execution_count": 491,
     "metadata": {},
     "output_type": "execute_result"
    }
   ],
   "source": [
    "eev_ws_gap(si_costs, pi_costs)"
   ]
  },
  {
   "cell_type": "code",
   "execution_count": 492,
   "metadata": {},
   "outputs": [
    {
     "data": {
      "text/plain": [
       "2843675.27"
      ]
     },
     "execution_count": 492,
     "metadata": {},
     "output_type": "execute_result"
    }
   ],
   "source": [
    "np.mean(si_costs)"
   ]
  },
  {
   "cell_type": "code",
   "execution_count": 493,
   "metadata": {},
   "outputs": [
    {
     "data": {
      "text/plain": [
       "1643184.751"
      ]
     },
     "execution_count": 493,
     "metadata": {},
     "output_type": "execute_result"
    }
   ],
   "source": [
    "np.mean(pi_costs)"
   ]
  },
  {
   "cell_type": "code",
   "execution_count": 509,
   "metadata": {},
   "outputs": [
    {
     "data": {
      "text/plain": [
       "0.008332333476405654"
      ]
     },
     "execution_count": 509,
     "metadata": {},
     "output_type": "execute_result"
    }
   ],
   "source": [
    "np.std(pi_costs) / (np.sqrt(sample_size) * np.mean(pi_costs))"
   ]
  },
  {
   "cell_type": "code",
   "execution_count": 494,
   "metadata": {},
   "outputs": [
    {
     "data": {
      "text/plain": [
       "452029.0183517485"
      ]
     },
     "execution_count": 494,
     "metadata": {},
     "output_type": "execute_result"
    }
   ],
   "source": [
    "5 * np.std(si_costs) / np.sqrt(sample_size)"
   ]
  },
  {
   "cell_type": "code",
   "execution_count": 495,
   "metadata": {},
   "outputs": [
    {
     "data": {
      "text/plain": [
       "68457.81654338294"
      ]
     },
     "execution_count": 495,
     "metadata": {},
     "output_type": "execute_result"
    }
   ],
   "source": [
    "5 * np.std(pi_costs) / np.sqrt(sample_size)"
   ]
  },
  {
   "cell_type": "markdown",
   "metadata": {},
   "source": [
    "Test - perfect information is a lower bound of static policy, i.e., it should never be higher than static policy cost"
   ]
  },
  {
   "cell_type": "code",
   "execution_count": 496,
   "metadata": {},
   "outputs": [
    {
     "data": {
      "text/plain": [
       "True"
      ]
     },
     "execution_count": 496,
     "metadata": {},
     "output_type": "execute_result"
    }
   ],
   "source": [
    "sum(pi_costs > si_costs) == 0"
   ]
  },
  {
   "cell_type": "markdown",
   "metadata": {},
   "source": [
    "### Forcast-based reoptimization (FRM)\n",
    "\n",
    "**Motivation**\n",
    "\n",
    "Imagine that a flight has a pre-defined route based on the weather forecast week in advance which is updated hourly. Initially, flight might follow given path, but as soon as hourly update is given, we are able to re-optimize path. We will use observation for the next hour, while for the rest we might take an average.\n",
    "\n",
    "Similar, we might know a diesel price for the next year, while for the rest we can use an average.\n",
    "\n",
    "PITANJE:\n",
    "Uzimamo li stara ocekivanja procesa ili se u svakom stage-u pravimo kao da tek krecemo?"
   ]
  },
  {
   "cell_type": "code",
   "execution_count": 498,
   "metadata": {},
   "outputs": [],
   "source": [
    "def fill_observation_with_expected_value(obs, current_stage, mu):\n",
    "    for i in range(current_stage + 1, len(obs)):\n",
    "        obs[i] = gbm_mean(obs[current_stage], mu, i - current_stage)\n",
    "        \n",
    "    return obs\n",
    "        \n",
    "\n",
    "def frm(source, target, investment_tech_obs, investment_rate_obs, diesel_obs, electric_obs):\n",
    "    frm_path = []\n",
    "    frm_path.append(source)\n",
    "    for i in range(T + 1):\n",
    "        it = fill_observation_with_expected_value(investment_tech_obs.copy(), i, investment_tech_mu)\n",
    "        ir = fill_observation_with_expected_value(investment_rate_obs.copy(), i, investment_rate_mu)\n",
    "        di = fill_observation_with_expected_value(diesel_obs.copy(), i, diesel_mu)\n",
    "        el = fill_observation_with_expected_value(electric_obs.copy(), i, electric_mu)\n",
    "        G = generate_graph(it, ir, di, el)\n",
    "        sp, _ = shortest_path_dp(G, source=frm_path[-1], target=target)\n",
    "        frm_path.append(sp[1])\n",
    "    frm_cost = get_path_cost(frm_path, investment_tech_obs, investment_rate_obs, diesel_obs, electric_obs)\n",
    "    \n",
    "    return frm_path, frm_cost"
   ]
  },
  {
   "cell_type": "code",
   "execution_count": 499,
   "metadata": {},
   "outputs": [],
   "source": [
    "frm_paths = []\n",
    "frm_costs = []\n",
    "for i in range(sample_size):\n",
    "    p, cst = frm('S_0_0', f'S_{T + 1}_{S}', random_investment_tech[i], random_investment_rate[i], random_diesel[i], random_electric[i])\n",
    "    frm_paths.append(p)\n",
    "    frm_costs.append(cst)"
   ]
  },
  {
   "cell_type": "code",
   "execution_count": 500,
   "metadata": {},
   "outputs": [
    {
     "data": {
      "text/plain": [
       "2706933.05632744"
      ]
     },
     "execution_count": 500,
     "metadata": {},
     "output_type": "execute_result"
    }
   ],
   "source": [
    "np.mean(frm_costs)"
   ]
  },
  {
   "cell_type": "markdown",
   "metadata": {},
   "source": [
    "#### Gap between perfect information and forecast-based re-optimization"
   ]
  },
  {
   "cell_type": "code",
   "execution_count": 502,
   "metadata": {},
   "outputs": [
    {
     "data": {
      "text/plain": [
       "1063748.0"
      ]
     },
     "execution_count": 502,
     "metadata": {},
     "output_type": "execute_result"
    }
   ],
   "source": [
    "frm_costs = []\n",
    "for i in range(sample_size):\n",
    "    c = get_path_cost(frm_paths[i], random_investment_tech[i], random_investment_rate[i],random_diesel[i], random_electric[i])\n",
    "    frm_costs.append(c)\n",
    "frm_costs = np.round(frm_costs)\n",
    "gaps = frm_costs - pi_costs\n",
    "eev_ws_gap(frm_costs, pi_costs)"
   ]
  },
  {
   "cell_type": "code",
   "execution_count": 504,
   "metadata": {},
   "outputs": [
    {
     "data": {
      "text/plain": [
       "2706933.07"
      ]
     },
     "execution_count": 504,
     "metadata": {},
     "output_type": "execute_result"
    }
   ],
   "source": [
    "np.mean(frm_costs)"
   ]
  },
  {
   "cell_type": "code",
   "execution_count": 503,
   "metadata": {},
   "outputs": [
    {
     "data": {
      "text/plain": [
       "410777.012822252"
      ]
     },
     "execution_count": 503,
     "metadata": {},
     "output_type": "execute_result"
    }
   ],
   "source": [
    "5 * np.std(frm_costs) / np.sqrt(sample_size)"
   ]
  },
  {
   "cell_type": "markdown",
   "metadata": {},
   "source": [
    "### Gurobi optimization"
   ]
  },
  {
   "cell_type": "code",
   "execution_count": null,
   "metadata": {},
   "outputs": [],
   "source": [
    "import gurobipy as gp\n",
    "from gurobipy import GRB\n",
    "import math"
   ]
  },
  {
   "cell_type": "code",
   "execution_count": null,
   "metadata": {},
   "outputs": [],
   "source": [
    "m = gp.Model('so')\n",
    "at = [m.addVar(vtype=GRB.INTEGER, name=f'a_{t}') for t in range(T)]\n",
    "st = [m.addVar(vtype=GRB.INTEGER, name=f's_{t}') for t in range(T + 1)]\n",
    "\n",
    "m.update()"
   ]
  },
  {
   "cell_type": "code",
   "execution_count": null,
   "metadata": {},
   "outputs": [],
   "source": [
    "electric = [150 * 115 * (st[i] + at[i]) for i in range(T)]\n",
    "diesel = [(3600 + 155 * 40) * (10 - st[i] - at[i]) for i in range(T)]\n",
    "invest = [4*10**5 * math.exp(-0.05*t) * at[i] for i in range(T)]\n",
    "final = [(10 - st[T]) * (4 * 10 ** 5) * math.exp(-0.05 * T)]"
   ]
  },
  {
   "cell_type": "code",
   "execution_count": null,
   "metadata": {},
   "outputs": [],
   "source": [
    "obj = []\n",
    "obj.extend(electric)\n",
    "obj.extend(diesel)\n",
    "obj.extend(invest)\n",
    "obj.extend(final)\n",
    "\n",
    "m.setObjective(sum(obj))"
   ]
  },
  {
   "cell_type": "code",
   "execution_count": null,
   "metadata": {},
   "outputs": [],
   "source": [
    "try:\n",
    "\n",
    "    # Create a new model\n",
    "    m = gp.Model(\"mip1\")\n",
    "\n",
    "    # Create variables\n",
    "    x = m.addVar(vtype=GRB.BINARY, name=\"x\")\n",
    "    y = m.addVar(vtype=GRB.BINARY, name=\"y\")\n",
    "    z = m.addVar(vtype=GRB.BINARY, name=\"z\")\n",
    "\n",
    "    # Set objective\n",
    "    m.setObjective(x + y + 2 * z, GRB.MAXIMIZE)\n",
    "\n",
    "    # Add constraint: x + 2 y + 3 z <= 4\n",
    "    m.addConstr(x + 2 * y + 3 * z <= 4, \"c0\")\n",
    "\n",
    "    # Add constraint: x + y >= 1\n",
    "    m.addConstr(x + y >= 1, \"c1\")\n",
    "\n",
    "    # Optimize model\n",
    "    m.optimize()\n",
    "\n",
    "    for v in m.getVars():\n",
    "        print('%s %g' % (v.varName, v.x))\n",
    "\n",
    "    print('Obj: %g' % m.objVal)\n",
    "\n",
    "except gp.GurobiError as e:\n",
    "    print('Error code ' + str(e.errno) + ': ' + str(e))\n",
    "\n",
    "except AttributeError:\n",
    "    print('Encountered an attribute error')"
   ]
  },
  {
   "cell_type": "code",
   "execution_count": null,
   "metadata": {},
   "outputs": [],
   "source": []
  }
 ],
 "metadata": {
  "kernelspec": {
   "display_name": "Python 3",
   "language": "python",
   "name": "python3"
  },
  "language_info": {
   "codemirror_mode": {
    "name": "ipython",
    "version": 3
   },
   "file_extension": ".py",
   "mimetype": "text/x-python",
   "name": "python",
   "nbconvert_exporter": "python",
   "pygments_lexer": "ipython3",
   "version": "3.7.3"
  }
 },
 "nbformat": 4,
 "nbformat_minor": 4
}
